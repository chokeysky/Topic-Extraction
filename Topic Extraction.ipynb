{
 "cells": [
  {
   "cell_type": "markdown",
   "metadata": {},
   "source": [
    "# NON-NEGATIVE MATRIX FACTORISATION FOR TOPIC EXTRACTION\n",
    "## Anfu TANG"
   ]
  },
  {
   "cell_type": "markdown",
   "metadata": {},
   "source": [
    "### TOPIC EXTRACTION FROM DOCUMENTS "
   ]
  },
  {
   "cell_type": "code",
   "execution_count": 1,
   "metadata": {},
   "outputs": [],
   "source": [
    "import numpy as np\n",
    "import matplotlib.pyplot as plt\n",
    "import warnings\n",
    "from sklearn.exceptions import ConvergenceWarning\n",
    "from __future__ import print_function\n",
    "from time import time\n",
    "from sklearn.feature_extraction.text import TfidfVectorizer, CountVectorizer\n",
    "from sklearn.decomposition import NMF\n",
    "from sklearn.datasets import fetch_20newsgroups\n",
    "from numpy.linalg import svd\n",
    "from ipywidgets import IntProgress\n",
    "from IPython.display import display"
   ]
  },
  {
   "cell_type": "code",
   "execution_count": 2,
   "metadata": {},
   "outputs": [],
   "source": [
    "n_samples = 2000\n",
    "n_features = 1000\n",
    "n_components = 10\n",
    "n_top_words = 20"
   ]
  },
  {
   "cell_type": "code",
   "execution_count": 3,
   "metadata": {},
   "outputs": [],
   "source": [
    "def print_top_words(model, feature_names, n_top_words):\n",
    "    for (topic_idx, topic) in enumerate(model.components_):\n",
    "        message = \"Topic #%d: \" % topic_idx\n",
    "        message += \" \".join([feature_names[i]\n",
    "                             for i in topic.argsort()[:-n_top_words - 1:-1]\n",
    "                            ])\n",
    "        print(message)\n",
    "    print()"
   ]
  },
  {
   "cell_type": "code",
   "execution_count": 4,
   "metadata": {},
   "outputs": [
    {
     "name": "stdout",
     "output_type": "stream",
     "text": [
      "Loading dataset...\n",
      "done in 1.758s.\n",
      "Extracting tf-idf features...\n",
      "done in 0.447s.\n"
     ]
    }
   ],
   "source": [
    "# Load the 20 newsgroups dataset and vectorize it. We use a few\n",
    "#heuristics to filter out useless terms early on: the posts are\n",
    "# stripped of headers, footers and quoted replies, and common\n",
    "# English words, words occurring in only one document or in at\n",
    "# least 95% of the documents are removed.\n",
    "print(\"Loading dataset...\")\n",
    "t0 = time()\n",
    "dataset = fetch_20newsgroups(shuffle=True, random_state=1,\n",
    "                             remove=('headers', 'footers', 'quotes'))\n",
    "\n",
    "data_samples = dataset.data[:n_samples]\n",
    "print(\"done in %0.3fs.\" % (time() - t0))\n",
    "\n",
    "# Use tf-idf features for NMF.\n",
    "print(\"Extracting tf-idf features...\")\n",
    "tfidf_vectorizer = TfidfVectorizer(max_df=0.95, min_df=2,\n",
    "                                   max_features=n_features,\n",
    "                                   stop_words='english')\n",
    "t0 = time()\n",
    "tfidf = tfidf_vectorizer.fit_transform(data_samples)\n",
    "print(\"done in %0.3fs.\" % (time() - t0))"
   ]
  },
  {
   "cell_type": "code",
   "execution_count": 5,
   "metadata": {},
   "outputs": [
    {
     "name": "stdout",
     "output_type": "stream",
     "text": [
      "Fitting the NMF model (Frobenius norm) with tf-idf features, n_samples=2000 and n_features=1000...\n",
      "done in 0.719s.\n",
      "\n",
      "Topics in NMF model (Frobenius norm):\n",
      "Topic #0: just people don think like know good time make way really right say ve want did ll new government use\n",
      "Topic #1: windows use dos using card window help program pc software drivers video os application looking ftp running version files screen\n",
      "Topic #2: god jesus bible faith christian does christ christians heaven sin believe lord life church mary atheism belief human love religion\n",
      "Topic #3: thanks know mail advance does interested info hi email anybody list like send new address post bike reply appreciated buying\n",
      "Topic #4: 00 sale 10 car condition price new card offer 250 15 12 asking 11 20 50 25 year 30 16\n",
      "Topic #5: edu soon com university internet send mit ftp cc article information hope need email home blood pub mac mail cs\n",
      "Topic #6: file files problem format win sound pub read ftp save windows site running create self copy image available added program\n",
      "Topic #7: game team games year win play season players nhl runs goal hockey flyers division player defense leafs toronto bad won\n",
      "Topic #8: drive drives hard disk floppy mac software mb controller scsi rom computer apple internal problems problem format digital cable western\n",
      "Topic #9: key chip clipper keys encryption use public secure phone enforcement encrypted communications user clinton message nsa going standard doesn 80\n",
      "\n"
     ]
    }
   ],
   "source": [
    "# Fit the NMF model\n",
    "print(\"Fitting the NMF model (Frobenius norm) with tf-idf features, \"\n",
    "      \"n_samples=%d and n_features=%d...\"\n",
    "      % (n_samples, n_features))\n",
    "t0 = time()\n",
    "nmf = NMF(n_components=n_components,solver=\"mu\",random_state=1,\n",
    "          alpha=.1, l1_ratio=.5).fit(tfidf)\n",
    "print(\"done in %0.3fs.\" % (time() - t0))\n",
    "\n",
    "print(\"\\nTopics in NMF model (Frobenius norm):\")\n",
    "tfidf_feature_names = tfidf_vectorizer.get_feature_names()\n",
    "print_top_words(nmf, tfidf_feature_names, n_top_words)"
   ]
  },
  {
   "cell_type": "markdown",
   "metadata": {},
   "source": [
    "**Q1. Test and comment on the effect of varying the initialisation, especially using random\n",
    "nonnegative values as initial guesses (for W and H coefficients, using the notations introduced\n",
    "during the lecture).**"
   ]
  },
  {
   "cell_type": "code",
   "execution_count": 6,
   "metadata": {},
   "outputs": [
    {
     "name": "stdout",
     "output_type": "stream",
     "text": [
      "\n",
      "Topics in NMF model with random inits(Frobenius norm):\n",
      "Topic #0: just thought wondering don sure listen like wrong mean bad does argument oh want book driving heard doesn really ll\n",
      "Topic #1: people government don law know say make israel rights did right evidence person point like said state gun true mr\n",
      "Topic #2: good bike want use luck don buy course need better using say recommend thing later look quality deleted try doesn\n",
      "Topic #3: think don win extra use early bible need pretty sold means sex yes wasn toronto try reading david happen course\n",
      "Topic #4: windows file dos files program using problem window help use os drivers pc ftp running application ms software card screen\n",
      "Topic #5: god jesus bible faith christian christ christians does heaven sin believe life lord mary church love atheism human belief religion\n",
      "Topic #6: key chip clipper keys encryption use government public secure phone enforcement encrypted communications nsa used security standard clinton data user\n",
      "Topic #7: thanks know does advance mail hi info interested anybody email like appreciated help list information looking newsgroup don send need\n",
      "Topic #8: like new time year car ve ll game drive got years 10 power way really space great team used little\n",
      "Topic #9: edu soon com send internet university ftp mail mit cc article information pub hope email blood home mac need contact\n",
      "\n"
     ]
    }
   ],
   "source": [
    "# Fit the NMF model\n",
    "nmf = NMF(n_components=n_components, init=\"random\",solver=\"mu\",random_state=1,\n",
    "          alpha=.1, l1_ratio=.5).fit(tfidf)\n",
    "print(\"\\nTopics in NMF model with random inits(Frobenius norm):\")\n",
    "tfidf_feature_names = tfidf_vectorizer.get_feature_names()\n",
    "print_top_words(nmf, tfidf_feature_names, n_top_words)"
   ]
  },
  {
   "cell_type": "markdown",
   "metadata": {},
   "source": [
    "Compare these 10 topics here to thoses obtained using initial guesses given by nndsvd method(default), we can find that there are just several pairs between each of them there are strong correspondence:(nndsvd->random)1->4,2->5,3->7,5->9,9->6.\n",
    "For those who does not have an obvious correspondence, words in the topic appear to like randomly chosen.This implicates that random guesses does not give a result enough precise. \n",
    "\n",
    "The reason is that in the NMF algorithm, no matter coordinate descent method(default) or multiplicative update method is based on gradient,thus the minimum attained is local minimum, and for a local optimisation problem. there may exist many local minimas. Therefore, initial W,H given are more precise, the result will be more precise."
   ]
  },
  {
   "cell_type": "markdown",
   "metadata": {},
   "source": [
    "**Q2.Compare and comment on the difference between the results obtained with l2 cost compared\n",
    "to the generalised Kullback-Liebler cost.**"
   ]
  },
  {
   "cell_type": "code",
   "execution_count": 7,
   "metadata": {},
   "outputs": [
    {
     "name": "stdout",
     "output_type": "stream",
     "text": [
      "\n",
      "Topics in NMF model using Kullback-Liebler cost:\n",
      "Topic #0: people just like time don say really know way things make think right said did want ve probably work years\n",
      "Topic #1: windows thanks using help need hi work know use looking mail software does used pc video available running info advance\n",
      "Topic #2: god does true read know say believe subject says religion mean question point jesus people book christian mind understand matter\n",
      "Topic #3: thanks know like interested mail just want new send edu list does bike thing email reply post wondering hear heard\n",
      "Topic #4: time new 10 year sale old offer 20 16 15 great 30 weeks good test model condition 11 14 power\n",
      "Topic #5: use number com government new university data states information talk phone right including security provide control following long used research\n",
      "Topic #6: edu try file soon remember problem com program hope mike space article wrong library short include win little couldn sun\n",
      "Topic #7: year world team game play won win games season maybe case second does did series playing nhl fact said points\n",
      "Topic #8: think don drive need hard make people mac read going pretty try sure order means trying apple case bit drives\n",
      "Topic #9: just good use way got like ll doesn want sure don doing thought does wrong right better make stuff speed\n",
      "\n"
     ]
    }
   ],
   "source": [
    "# Fit the NMF model\n",
    "nmf = NMF(n_components=n_components, solver=\"mu\",beta_loss=\"kullback-leibler\",random_state=1,\n",
    "          alpha=.1, l1_ratio=.5).fit(tfidf)\n",
    "print(\"\\nTopics in NMF model using Kullback-Liebler cost:\")\n",
    "tfidf_feature_names = tfidf_vectorizer.get_feature_names()\n",
    "print_top_words(nmf, tfidf_feature_names, n_top_words)"
   ]
  },
  {
   "cell_type": "markdown",
   "metadata": {},
   "source": [
    "It is obvious that in case where L2 cost is used, key words in a topic are more representive and relates to the topic more closely. We can compare these two costs by their expressions:\n",
    "\n",
    "(frobenius/L2 cost) $d_{Fro}(\\mathbf{X},\\mathbf{WH})=\\sum_{i,j}||\\mathbf{X}-\\mathbf{WH}||^2$\n",
    "\n",
    "(kullback-liebler cost)$d_{KL}(\\mathbf{X},\\mathbf{WH})=\\sum_{i,j}{(\\mathbf{X}log\\frac{\\mathbf{X}}{\\mathbf{WH}}-\\mathbf{X}+\\mathbf{WH})}$\n",
    "\n",
    "These two costs have evidently different convergence speed, thus they apply for different situations. We can conclude that for tfidf results, kullback-liebler cost is not suitable."
   ]
  },
  {
   "cell_type": "markdown",
   "metadata": {},
   "source": [
    "\n",
    "**Q3.Test and comment on the results obtained using a simpler term-frequency representation\n",
    "as input (as opposed to the TF-IDF representation considered in the code above) when\n",
    "considering the Kullback-Liebler cost.**"
   ]
  },
  {
   "cell_type": "code",
   "execution_count": 8,
   "metadata": {},
   "outputs": [
    {
     "name": "stdout",
     "output_type": "stream",
     "text": [
      "\n",
      "Topics in NMF model using Kullback-Liebler cost(CountVectorizer):\n",
      "Topic #0: edu com mail thanks windows send graphics file use help stuff pub files computer using server image email message ftp\n",
      "Topic #1: drive hard disk card drives speed scsi controller power 16 rom bios use floppy high feature board memory interface supports\n",
      "Topic #2: people just know don like did going think said didn ve ll time got come right say want old things\n",
      "Topic #3: 10 55 11 15 20 25 18 12 00 16 40 22 17 19 23 21 13 26 24 30\n",
      "Topic #4: new public 000 hiv research national children year health time 1993 care president states information aids greek american cost insurance\n",
      "Topic #5: version type available pc number contact program mac software phone machines dos comments university edu ibm ftp runs written anonymous\n",
      "Topic #6: law key government use state used israel chip section person encryption keys clipper means gun control weapons military following shall\n",
      "Topic #7: space earth years moon surface probe science lunar year mission low orbit data launch books energy nasa mars book high\n",
      "Topic #8: good god does like just think don way make point time believe better know car say doesn really different thing\n",
      "Topic #9: game team play period year flyers win season gm goal games points players got second power nhl record leafs mark\n",
      "\n"
     ]
    }
   ],
   "source": [
    "count_vectorizer = CountVectorizer(max_df=0.95, min_df=2,\n",
    "                                   max_features=n_features,\n",
    "                                   stop_words='english')\n",
    "t0 = time()\n",
    "countvec = count_vectorizer.fit_transform(data_samples)\n",
    "\n",
    "# Fit the NMF model\n",
    "nmf = NMF(n_components=n_components, solver=\"mu\",beta_loss=\"kullback-leibler\",random_state=1,\n",
    "          alpha=.1, l1_ratio=.5).fit(countvec)\n",
    "print(\"\\nTopics in NMF model using Kullback-Liebler cost(CountVectorizer):\")\n",
    "count_feature_names = count_vectorizer.get_feature_names()\n",
    "print_top_words(nmf, count_feature_names, n_top_words)"
   ]
  },
  {
   "cell_type": "markdown",
   "metadata": {},
   "source": [
    "We have two points to conclude from comparisons:1.If the kullback-leibler cost is used, using simple term-frequency performs better than using tf-idf representations;2.If we both use frobenius cost, tf-idf representation performs better than term-frequency. \n",
    "\n",
    "The main reason is that the matrix calculated by tfidfVectorizer is less sparse which makes it harder to converge, while the matrix of countVectorizer is more sparse and easier to converge. it is why Frobenius here frobenius cost suits for tfidfVectorizer, and kullback-leibler cost suits for countVectorizer."
   ]
  },
  {
   "cell_type": "markdown",
   "metadata": {},
   "source": [
    "### CUSTOM NMF IMPLEMENTATION "
   ]
  },
  {
   "cell_type": "code",
   "execution_count": 9,
   "metadata": {},
   "outputs": [],
   "source": [
    "def beta_divergence(A,B,beta):\n",
    "    '''\n",
    "    function:calculate the error between matrix A and B based on beta\n",
    "    return:error d(A|B)\n",
    "    '''\n",
    "    #avoid division by 0\n",
    "    nul = np.finfo(np.float).tiny\n",
    "    A = np.clip(A, 10**-50, None)\n",
    "    B = np.clip(B, 10**-50, None)\n",
    "    if beta==0:\n",
    "        divergence = np.sum((A/B-np.log(A/B)-1))\n",
    "    if beta==1:\n",
    "        divergence = np.sum((np.ma.multiply(A,np.log(A/B))-A+B))\n",
    "    if beta>1:\n",
    "        divergence = np.sum(((1/(beta*(beta-1)))*((A**beta)+(beta-1)*(B**beta)-\n",
    "                                                beta*np.ma.multiply(A,(B**(beta-1))))))\n",
    "    return np.sqrt(divergence)"
   ]
  },
  {
   "cell_type": "code",
   "execution_count": 10,
   "metadata": {},
   "outputs": [],
   "source": [
    "def update_H(W,H,V,beta):\n",
    "    WH = W.dot(H)\n",
    "    I = np.ones(WH.shape)\n",
    "    if beta==0:\n",
    "        numerator = (W.T).dot(np.ma.multiply(np.divide(I,WH**2),V))\n",
    "        denominator = W.T.dot(np.ma.divide(I,WH))\n",
    "    if beta==1:\n",
    "        numerator = (W.T).dot(np.ma.multiply(np.ma.divide(I,WH),V))\n",
    "        denominator = (W.T).dot(I)\n",
    "    if beta>1:\n",
    "        numerator = (W.T).dot(np.ma.multiply(WH**(beta-2),V))\n",
    "        denominator = (W.T).dot(WH**(beta-1))\n",
    "    updated_H = np.ma.multiply(H,np.ma.divide(numerator,denominator))\n",
    "    \n",
    "    return updated_H"
   ]
  },
  {
   "cell_type": "code",
   "execution_count": 11,
   "metadata": {},
   "outputs": [],
   "source": [
    "def update_W(W,H,V,beta):\n",
    "    WH = np.dot(W,H)\n",
    "    I = np.ones(WH.shape)\n",
    "    if beta==0:\n",
    "        numerator = np.dot(np.ma.multiply(np.divide(I,WH**2),V),H.T)\n",
    "        denominator = np.dot(np.ma.divide(I,WH),H.T)\n",
    "    if beta==1:\n",
    "        numerator = np.dot(np.ma.multiply(np.ma.divide(I,WH),V),H.T)\n",
    "        denominator = I.dot(H.T)\n",
    "    if beta>1:\n",
    "        numerator = np.dot(np.ma.multiply(WH**(beta-2),V),H.T)\n",
    "        denominator = np.dot(WH**(beta-1),H.T)\n",
    "    updated_W = np.ma.multiply(W,np.ma.divide(numerator,denominator))\n",
    "    return updated_W"
   ]
  },
  {
   "cell_type": "code",
   "execution_count": 12,
   "metadata": {},
   "outputs": [],
   "source": [
    "def custom_NMF(V,W=None,H=None,num_components=10,init=\"random\",num_iter=20,beta=2):\n",
    "    '''\n",
    "    parameters:\n",
    "    V - matrix to be factorised\n",
    "    init - set initialisation,must be a string in:{\"random\",\"custom\"}\n",
    "           if \"custom\", W,H must be given\n",
    "    num_iter - number of iterations\n",
    "    beta - beta of divergence, must be an integer(beta>=0)\n",
    "    \n",
    "    return:\n",
    "    updated W,H\n",
    "    '''\n",
    "    np.seterr(all='ignore')\n",
    "    n_samples = V.shape[0]\n",
    "    n_features = V.shape[1]\n",
    "    #initialisation\n",
    "    if init==\"random\":\n",
    "        W = np.random.random((n_samples,num_components))\n",
    "        H = np.random.random((num_components,n_features))\n",
    "    if init==\"custom\":\n",
    "        if W.shape!=(n_samples,num_components) or H.shape!=(num_components,n_features):\n",
    "            print(\"error!W or H does not have a right shape!\")\n",
    "    #multiplicative update\n",
    "    #visulize progress\n",
    "    pro = IntProgress(max=num_iter)\n",
    "    pro.description = \"updating\"\n",
    "    display(pro)\n",
    "    start = time()\n",
    "    b_div = []\n",
    "    for ite in range(num_iter):\n",
    "        #update H\n",
    "        H = update_H(W,H,V,beta)\n",
    "        #update W\n",
    "        W = update_W(W,H,V,beta)\n",
    "        #limit W and H to avoid overflow\n",
    "        H = np.clip(H, 10**-150, None)\n",
    "        W = np.clip(W, 10**-150, None)\n",
    "        #show error\n",
    "        #print(\"divergence of iteration %d: %.6f\"%(ite,beta_divergence(V,np.dot(W,H),beta)))\n",
    "        b_div.append(beta_divergence(V,np.dot(W,H),beta))\n",
    "        pro.value += 1\n",
    "    end = time()\n",
    "    pro.description = \"done(%.1fs)\" % (end-start)\n",
    "    #plot the curve of divergence\n",
    "    iterations = np.linspace(1,num_iter,num_iter)\n",
    "    plt.figure(figsize=(6,4))\n",
    "    plt.plot(iterations,b_div)\n",
    "    plt.title(\"beta=%d\"%(beta))\n",
    "    plt.xlabel(\"iterations\")\n",
    "    plt.ylabel(\"beta divergence\")\n",
    "    plt.show()\n",
    "    \n",
    "    return W,H"
   ]
  },
  {
   "cell_type": "markdown",
   "metadata": {},
   "source": [
    "**Implementation Result**\n",
    "\n",
    "Our algorithm fulfills the three requests proposed in the instruction. (1)custom initialisation can be entered as parameters, while setting parameter init \"custom\";(2)number of iterations can be set by parameter num_iter;(3)we can monitor the behaviour of loss function by setting different values of beta, and it will be shown in the form of a curve that during iterations, the loss readily decreases. "
   ]
  },
  {
   "cell_type": "markdown",
   "metadata": {},
   "source": [
    "## Comparison\n",
    "We compare our algorithm to the sklearn NMF algorithm in two aspects:(1)reconstruction error between WH and original V;(2)results of topic extraction.\n",
    "\n",
    "**(1)comparison on beta divergence(reconstruction error)**"
   ]
  },
  {
   "cell_type": "code",
   "execution_count": 13,
   "metadata": {},
   "outputs": [
    {
     "name": "stdout",
     "output_type": "stream",
     "text": [
      "divergence calculated manually:1781.723211\n"
     ]
    }
   ],
   "source": [
    "#calculate reconstruction error of sklearn NMF.\n",
    "warnings.filterwarnings(action='ignore', category=ConvergenceWarning)\n",
    "warnings.filterwarnings(\"ignore\", category=DeprecationWarning)\n",
    "tf = tfidf.toarray()\n",
    "nmf = NMF(n_components=n_components,max_iter=30,init=\"random\",beta_loss=2,solver=\"mu\",random_state=1,\n",
    "          alpha=.1, l1_ratio=.5).fit(tfidf)\n",
    "nmf_w=nmf.fit_transform(tfidf)\n",
    "nmf_h=nmf.components_\n",
    "nmf_v=nmf_w.dot(nmf_h)\n",
    "#calculate frobenius cost for validation\n",
    "print(\"divergence calculated manually:%.6f\"%(np.sum((nmf_v-tf)**2)))"
   ]
  },
  {
   "cell_type": "code",
   "execution_count": 14,
   "metadata": {},
   "outputs": [
    {
     "name": "stdout",
     "output_type": "stream",
     "text": [
      "reconstruction error given by sklearn NMF:42.210463\n",
      "its square:1781.723211\n"
     ]
    }
   ],
   "source": [
    "print(\"reconstruction error given by sklearn NMF:%.6f\"%(nmf.reconstruction_err_))\n",
    "print(\"its square:%.6f\"%(np.power(nmf.reconstruction_err_,2)))"
   ]
  },
  {
   "cell_type": "markdown",
   "metadata": {},
   "source": [
    "Thus, it should be noticed that in sklearn NMF, beta divergence is usually small than the one in our algorithm because it outputs the square root.\n",
    "We make a modification in our algorithm for better comparison. In later comparison, we keep 30 iterations with random guesses,and test two cases in which $\\beta=1,2$."
   ]
  },
  {
   "cell_type": "code",
   "execution_count": 15,
   "metadata": {},
   "outputs": [
    {
     "data": {
      "application/vnd.jupyter.widget-view+json": {
       "model_id": "7e1b2c7432294026ab6fca491d18a176",
       "version_major": 2,
       "version_minor": 0
      },
      "text/html": [
       "<p>Failed to display Jupyter Widget of type <code>IntProgress</code>.</p>\n",
       "<p>\n",
       "  If you're reading this message in the Jupyter Notebook or JupyterLab Notebook, it may mean\n",
       "  that the widgets JavaScript is still loading. If this message persists, it\n",
       "  likely means that the widgets JavaScript library is either not installed or\n",
       "  not enabled. See the <a href=\"https://ipywidgets.readthedocs.io/en/stable/user_install.html\">Jupyter\n",
       "  Widgets Documentation</a> for setup instructions.\n",
       "</p>\n",
       "<p>\n",
       "  If you're reading this message in another frontend (for example, a static\n",
       "  rendering on GitHub or <a href=\"https://nbviewer.jupyter.org/\">NBViewer</a>),\n",
       "  it may mean that your frontend doesn't currently support widgets.\n",
       "</p>\n"
      ],
      "text/plain": [
       "IntProgress(value=0, description='updating', max=30)"
      ]
     },
     "metadata": {},
     "output_type": "display_data"
    },
    {
     "data": {
      "image/png": "[encoded data removed]",
      "text/plain": [
       "<matplotlib.figure.Figure at 0x261724639b0>"
      ]
     },
     "metadata": {},
     "output_type": "display_data"
    }
   ],
   "source": [
    "w,h = custom_NMF(tf,num_iter=30,beta=2)"
   ]
  },
  {
   "cell_type": "markdown",
   "metadata": {},
   "source": [
    "Our algorithm gives a smaller divergence because actually in our algorithm in case of $\\beta=2$,\n",
    "\n",
    "$D(V,WH)=\\sum_{i,j}\\frac{1}{2}||V-WH||^2$\n",
    "\n",
    "Therefore, our algorithm in fact functions as well as sklearn in this point, except for speed."
   ]
  },
  {
   "cell_type": "code",
   "execution_count": 16,
   "metadata": {},
   "outputs": [
    {
     "name": "stdout",
     "output_type": "stream",
     "text": [
      "reconstruction error given by sklearn NMF:214.005759\n"
     ]
    }
   ],
   "source": [
    "nmf = NMF(n_components=n_components,max_iter=30,init=\"random\",beta_loss=1,solver=\"mu\",random_state=1,\n",
    "          alpha=.1, l1_ratio=.5).fit(tfidf)\n",
    "print(\"reconstruction error given by sklearn NMF:%.6f\"%(nmf.reconstruction_err_))"
   ]
  },
  {
   "cell_type": "code",
   "execution_count": 17,
   "metadata": {},
   "outputs": [
    {
     "data": {
      "application/vnd.jupyter.widget-view+json": {
       "model_id": "7bd1de49cd584a19b78f9bd68a104606",
       "version_major": 2,
       "version_minor": 0
      },
      "text/html": [
       "<p>Failed to display Jupyter Widget of type <code>IntProgress</code>.</p>\n",
       "<p>\n",
       "  If you're reading this message in the Jupyter Notebook or JupyterLab Notebook, it may mean\n",
       "  that the widgets JavaScript is still loading. If this message persists, it\n",
       "  likely means that the widgets JavaScript library is either not installed or\n",
       "  not enabled. See the <a href=\"https://ipywidgets.readthedocs.io/en/stable/user_install.html\">Jupyter\n",
       "  Widgets Documentation</a> for setup instructions.\n",
       "</p>\n",
       "<p>\n",
       "  If you're reading this message in another frontend (for example, a static\n",
       "  rendering on GitHub or <a href=\"https://nbviewer.jupyter.org/\">NBViewer</a>),\n",
       "  it may mean that your frontend doesn't currently support widgets.\n",
       "</p>\n"
      ],
      "text/plain": [
       "IntProgress(value=0, description='updating', max=30)"
      ]
     },
     "metadata": {},
     "output_type": "display_data"
    },
    {
     "data": {
      "image/png": "[encoded data removed]",
      "text/plain": [
       "<matplotlib.figure.Figure at 0x26171d18128>"
      ]
     },
     "metadata": {},
     "output_type": "display_data"
    }
   ],
   "source": [
    "w,h = custom_NMF(tf,num_iter=30,beta=1)"
   ]
  },
  {
   "cell_type": "markdown",
   "metadata": {},
   "source": [
    "We still have similar performances when $\\beta=1$."
   ]
  },
  {
   "cell_type": "markdown",
   "metadata": {},
   "source": [
    "**(2)comparison on topics extracted**"
   ]
  },
  {
   "cell_type": "code",
   "execution_count": 18,
   "metadata": {},
   "outputs": [
    {
     "name": "stdout",
     "output_type": "stream",
     "text": [
      "Topics extracted for sklearn NMF:\n",
      "Topic #0: just thought wondering don sure listen like wrong mean bad does argument oh want book driving heard doesn really ll\n",
      "Topic #1: people government don law know say make israel rights did right evidence person point like said state gun true mr\n",
      "Topic #2: good bike want use luck don buy course need better using say recommend thing later look quality deleted try doesn\n",
      "Topic #3: think don win extra use early bible need pretty sold means sex yes wasn toronto try reading david happen course\n",
      "Topic #4: windows file dos files program using problem window help use os drivers pc ftp running application ms software card screen\n",
      "Topic #5: god jesus bible faith christian christ christians does heaven sin believe life lord mary church love atheism human belief religion\n",
      "Topic #6: key chip clipper keys encryption use government public secure phone enforcement encrypted communications nsa used security standard clinton data user\n",
      "Topic #7: thanks know does advance mail hi info interested anybody email like appreciated help list information looking newsgroup don send need\n",
      "Topic #8: like new time year car ve ll game drive got years 10 power way really space great team used little\n",
      "Topic #9: edu soon com send internet university ftp mail mit cc article information pub hope email blood home mac need contact\n",
      "\n"
     ]
    }
   ],
   "source": [
    "nmf = NMF(n_components=n_components,init=\"random\",beta_loss=2,solver=\"mu\",random_state=1,\n",
    "          alpha=.1, l1_ratio=.5).fit(tfidf)\n",
    "print(\"Topics extracted for sklearn NMF:\")\n",
    "print_top_words(nmf, tfidf_feature_names, n_top_words)"
   ]
  },
  {
   "cell_type": "code",
   "execution_count": 19,
   "metadata": {},
   "outputs": [
    {
     "data": {
      "application/vnd.jupyter.widget-view+json": {
       "model_id": "c03481208ef94796acdfa03fa7bc1298",
       "version_major": 2,
       "version_minor": 0
      },
      "text/html": [
       "<p>Failed to display Jupyter Widget of type <code>IntProgress</code>.</p>\n",
       "<p>\n",
       "  If you're reading this message in the Jupyter Notebook or JupyterLab Notebook, it may mean\n",
       "  that the widgets JavaScript is still loading. If this message persists, it\n",
       "  likely means that the widgets JavaScript library is either not installed or\n",
       "  not enabled. See the <a href=\"https://ipywidgets.readthedocs.io/en/stable/user_install.html\">Jupyter\n",
       "  Widgets Documentation</a> for setup instructions.\n",
       "</p>\n",
       "<p>\n",
       "  If you're reading this message in another frontend (for example, a static\n",
       "  rendering on GitHub or <a href=\"https://nbviewer.jupyter.org/\">NBViewer</a>),\n",
       "  it may mean that your frontend doesn't currently support widgets.\n",
       "</p>\n"
      ],
      "text/plain": [
       "IntProgress(value=0, description='updating', max=200)"
      ]
     },
     "metadata": {},
     "output_type": "display_data"
    },
    {
     "data": {
      "image/png": "[encoded data removed]",
      "text/plain": [
       "<matplotlib.figure.Figure at 0x26172015e80>"
      ]
     },
     "metadata": {},
     "output_type": "display_data"
    },
    {
     "name": "stdout",
     "output_type": "stream",
     "text": [
      "Topics extracted for our custom NMF:\n",
      "Topic #0: god jesus bible faith does christian christians christ believe life heaven sin lord church religion mary love good true human\n",
      "Topic #1: key chip clipper keys encryption government use public phone secure enforcement data nsa law going communications doesn security encrypted used\n",
      "Topic #2: edu soon com send university internet mail ftp mit information article pub cc address email hope contact blood program mac\n",
      "Topic #3: windows file problem dos using use files program window software help pc os running drivers version available application screen work\n",
      "Topic #4: people did time law government know say israel said rights let state make right don evidence point gun case crime\n",
      "Topic #5: car new 00 drive power 10 price sale bike good cars speed used condition old engine space year 16 buy\n",
      "Topic #6: just don like got ll sure really thought ve way right look want wrong mean doesn know isn thing good\n",
      "Topic #7: thanks know does mail advance hi info interested anybody email looking like card help appreciated send list information need post\n",
      "Topic #8: game team year games play win season players nhl runs toronto flyers division goal ll player hockey won time defense\n",
      "Topic #9: think don good need use space extra make win science course yes pretty early like means bible case actually sold\n"
     ]
    }
   ],
   "source": [
    "w,h = custom_NMF(tf,num_iter=200,beta=2)\n",
    "print(\"Topics extracted for our custom NMF:\")\n",
    "for (topic_idx, topic) in enumerate(h):\n",
    "        message = \"Topic #%d: \" % topic_idx\n",
    "        message += \" \".join([tfidf_feature_names[i]\n",
    "                             for i in topic.argsort()[:-n_top_words - 1:-1]\n",
    "                            ])\n",
    "        print(message)"
   ]
  },
  {
   "cell_type": "markdown",
   "metadata": {},
   "source": [
    "We can build several direct correspondence between the results:(sklearn,custom)0->6, 1->4, 4->3, 5->0, 6->1, 7->7, 8->5, 9->2. For these other topics in the results, both two algorithms give ambiguous key words. In this sense, our algorithm performs as well as sklearn. "
   ]
  }
 ],
 "metadata": {
  "kernelspec": {
   "display_name": "Python 3",
   "language": "python",
   "name": "python3"
  },
  "language_info": {
   "codemirror_mode": {
    "name": "ipython",
    "version": 3
   },
   "file_extension": ".py",
   "mimetype": "text/x-python",
   "name": "python",
   "nbconvert_exporter": "python",
   "pygments_lexer": "ipython3",
   "version": "3.6.6"
  }
 },
 "nbformat": 4,
 "nbformat_minor": 2
}
